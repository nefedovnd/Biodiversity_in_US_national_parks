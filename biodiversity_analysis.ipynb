{
 "cells": [
  {
   "cell_type": "markdown",
   "metadata": {},
   "source": [
    "# Introduction\n",
    "The aim of this project is to analyze biodiversity data from the National Parks Service, precisely about different species observed across different national park locations.\n",
    "\n",
    "This project will scope, prepare, analyze data and explain findings from the analysis.\n",
    "\n",
    "Main question this project seeks to answer are:\n",
    "\n",
    "- What is the distribution of conservation status for species?\n",
    "- What are the differences between types of species and conservation status?\n",
    "- Which types of species are mostly protected?\n",
    "- Which park has the largest number of observed endangered species?\n",
    "- Which species are mostly endangered and how they distributed across national parks?\n",
    "\n",
    "**Data sources:**\n",
    "\n",
    "Both `Observations.csv` and `Species_info.csv` was provided by [Codecademy.com](https://www.codecademy.com).\n",
    "\n",
    "Note: The data for this project is *inspired* by real data, but is mostly fictional."
   ]
  },
  {
   "cell_type": "markdown",
   "metadata": {},
   "source": [
    "## Project scope\n",
    "It is important to provide a scope of a project before getting started. The project scope divided into four sections of: project goals, data, analysis, conclusion. First section of project goals lists key question the project seeks to answer. Second section relates to data, provided in advance and needs to be rechecked for following analysis competence. Third section \n",
    "\n",
    "### Project goals\n",
    "This project will adopt the perspective of a biodiversity analyst working for the National Parks Service. The aim of the National Park Service is to preserve the diversity of species in their parks, including those that are at risk of extinction. As a biodiversity analyst, the primary goals will be to study the characteristics of these species and their conservation status, as well as their relationship to the national parks.\n",
    "\n",
    "Key questions of the research: \n",
    "- What is the distribution of conservation status for species?\n",
    "- What are the differences between types of species and conservation status?\n",
    "- Which types of species are mostly protected?\n",
    "- Which park has the largest number of observed endangered species?\n",
    "- Which species are mostly endangered and how they distributed across national parks?\n",
    "\n",
    "### Data\n",
    "The project package includes two `CSV` datasets: one contain details about each species live across national parks, and the other has observations of species and their corresponding park locations. These datasets will be utilized to achieve the project's objectives through analysis.\n",
    "\n",
    "### Analysis \n",
    "This section will utilize descriptive statistics and data visualization methods to gain a deeper understanding of the data. Additionally, statistical inference will be employed to determine the statistical significance of the observed values. Metrics include:\n",
    "\n",
    "1. Distributions\n",
    "1. Counts\n",
    "1. Statistical significance\n",
    "1. Categorical data analysis \n",
    "\n",
    "### Evaluations\n",
    "Finally, results will be summarized and it will be ensured that the analysis output aligns with the initial questions outlined in the goals section. This section will also provide insights into what has been learned throughout the process and highlight any unanswered questions."
   ]
  },
  {
   "cell_type": "markdown",
   "metadata": {},
   "source": [
    "## Import Python modules"
   ]
  },
  {
   "cell_type": "markdown",
   "metadata": {},
   "source": [
    "Import modules for the analysis:"
   ]
  },
  {
   "cell_type": "code",
   "execution_count": 2,
   "metadata": {},
   "outputs": [],
   "source": [
    "import pandas as pd\n",
    "import numpy as np\n",
    "import seaborn as sns\n",
    "from matplotlib import pyplot as plt\n",
    "import os\n",
    "from scipy.stats import chi2_contingency"
   ]
  },
  {
   "cell_type": "markdown",
   "metadata": {},
   "source": [
    "## Load the data"
   ]
  },
  {
   "cell_type": "markdown",
   "metadata": {},
   "source": [
    "#### Check for data files in working directory"
   ]
  },
  {
   "cell_type": "markdown",
   "metadata": {},
   "source": [
    "There are two `csv` files in working directory `species_info.csv` and `observations.csv`"
   ]
  },
  {
   "cell_type": "code",
   "execution_count": 3,
   "metadata": {
    "scrolled": true
   },
   "outputs": [
    {
     "name": "stdout",
     "output_type": "stream",
     "text": [
      "['species_info.csv', '.DS_Store', 'biodiversity.ipynb', 'biodiversity_solution.ipynb', '.ipynb_checkpoints', 'observations.csv']\n"
     ]
    }
   ],
   "source": [
    "dir_path = os.getcwd()\n",
    "files = os.listdir(dir_path)\n",
    "print(files)"
   ]
  },
  {
   "cell_type": "markdown",
   "metadata": {},
   "source": [
    "### Species data"
   ]
  },
  {
   "cell_type": "markdown",
   "metadata": {},
   "source": [
    "Species data `species_info.csv` has information about species live across national parks.\n",
    "\n",
    "The dataset columns include:\n",
    "- **category** - The category of biological classification for each species\n",
    "- **scientific_name** - The scientific name of each species\n",
    "- **common_names** - The common names of each species\n",
    "- **conservation_status** - The species conservation status"
   ]
  },
  {
   "cell_type": "code",
   "execution_count": 4,
   "metadata": {
    "scrolled": true
   },
   "outputs": [
    {
     "data": {
      "text/html": [
       "<div>\n",
       "<style scoped>\n",
       "    .dataframe tbody tr th:only-of-type {\n",
       "        vertical-align: middle;\n",
       "    }\n",
       "\n",
       "    .dataframe tbody tr th {\n",
       "        vertical-align: top;\n",
       "    }\n",
       "\n",
       "    .dataframe thead th {\n",
       "        text-align: right;\n",
       "    }\n",
       "</style>\n",
       "<table border=\"1\" class=\"dataframe\">\n",
       "  <thead>\n",
       "    <tr style=\"text-align: right;\">\n",
       "      <th></th>\n",
       "      <th>category</th>\n",
       "      <th>scientific_name</th>\n",
       "      <th>common_names</th>\n",
       "      <th>conservation_status</th>\n",
       "    </tr>\n",
       "  </thead>\n",
       "  <tbody>\n",
       "    <tr>\n",
       "      <th>0</th>\n",
       "      <td>Mammal</td>\n",
       "      <td>Clethrionomys gapperi gapperi</td>\n",
       "      <td>Gapper's Red-Backed Vole</td>\n",
       "      <td>NaN</td>\n",
       "    </tr>\n",
       "    <tr>\n",
       "      <th>1</th>\n",
       "      <td>Mammal</td>\n",
       "      <td>Bos bison</td>\n",
       "      <td>American Bison, Bison</td>\n",
       "      <td>NaN</td>\n",
       "    </tr>\n",
       "    <tr>\n",
       "      <th>2</th>\n",
       "      <td>Mammal</td>\n",
       "      <td>Bos taurus</td>\n",
       "      <td>Aurochs, Aurochs, Domestic Cattle (Feral), Dom...</td>\n",
       "      <td>NaN</td>\n",
       "    </tr>\n",
       "    <tr>\n",
       "      <th>3</th>\n",
       "      <td>Mammal</td>\n",
       "      <td>Ovis aries</td>\n",
       "      <td>Domestic Sheep, Mouflon, Red Sheep, Sheep (Feral)</td>\n",
       "      <td>NaN</td>\n",
       "    </tr>\n",
       "    <tr>\n",
       "      <th>4</th>\n",
       "      <td>Mammal</td>\n",
       "      <td>Cervus elaphus</td>\n",
       "      <td>Wapiti Or Elk</td>\n",
       "      <td>NaN</td>\n",
       "    </tr>\n",
       "    <tr>\n",
       "      <th>5</th>\n",
       "      <td>Mammal</td>\n",
       "      <td>Odocoileus virginianus</td>\n",
       "      <td>White-Tailed Deer</td>\n",
       "      <td>NaN</td>\n",
       "    </tr>\n",
       "    <tr>\n",
       "      <th>6</th>\n",
       "      <td>Mammal</td>\n",
       "      <td>Sus scrofa</td>\n",
       "      <td>Feral Hog, Wild Pig</td>\n",
       "      <td>NaN</td>\n",
       "    </tr>\n",
       "    <tr>\n",
       "      <th>7</th>\n",
       "      <td>Mammal</td>\n",
       "      <td>Canis latrans</td>\n",
       "      <td>Coyote</td>\n",
       "      <td>Species of Concern</td>\n",
       "    </tr>\n",
       "    <tr>\n",
       "      <th>8</th>\n",
       "      <td>Mammal</td>\n",
       "      <td>Canis lupus</td>\n",
       "      <td>Gray Wolf</td>\n",
       "      <td>Endangered</td>\n",
       "    </tr>\n",
       "    <tr>\n",
       "      <th>9</th>\n",
       "      <td>Mammal</td>\n",
       "      <td>Canis rufus</td>\n",
       "      <td>Red Wolf</td>\n",
       "      <td>Endangered</td>\n",
       "    </tr>\n",
       "  </tbody>\n",
       "</table>\n",
       "</div>"
      ],
      "text/plain": [
       "  category                scientific_name  \\\n",
       "0   Mammal  Clethrionomys gapperi gapperi   \n",
       "1   Mammal                      Bos bison   \n",
       "2   Mammal                     Bos taurus   \n",
       "3   Mammal                     Ovis aries   \n",
       "4   Mammal                 Cervus elaphus   \n",
       "5   Mammal         Odocoileus virginianus   \n",
       "6   Mammal                     Sus scrofa   \n",
       "7   Mammal                  Canis latrans   \n",
       "8   Mammal                    Canis lupus   \n",
       "9   Mammal                    Canis rufus   \n",
       "\n",
       "                                        common_names conservation_status  \n",
       "0                           Gapper's Red-Backed Vole                 NaN  \n",
       "1                              American Bison, Bison                 NaN  \n",
       "2  Aurochs, Aurochs, Domestic Cattle (Feral), Dom...                 NaN  \n",
       "3  Domestic Sheep, Mouflon, Red Sheep, Sheep (Feral)                 NaN  \n",
       "4                                      Wapiti Or Elk                 NaN  \n",
       "5                                  White-Tailed Deer                 NaN  \n",
       "6                                Feral Hog, Wild Pig                 NaN  \n",
       "7                                             Coyote  Species of Concern  \n",
       "8                                          Gray Wolf          Endangered  \n",
       "9                                           Red Wolf          Endangered  "
      ]
     },
     "execution_count": 4,
     "metadata": {},
     "output_type": "execute_result"
    }
   ],
   "source": [
    "data_species = pd.read_csv('species_info.csv')\n",
    "data_species.head(10)"
   ]
  },
  {
   "cell_type": "markdown",
   "metadata": {},
   "source": [
    "#### Shape of the data\n",
    "Species data has 4 columns and 5824 rows"
   ]
  },
  {
   "cell_type": "code",
   "execution_count": 5,
   "metadata": {},
   "outputs": [
    {
     "name": "stdout",
     "output_type": "stream",
     "text": [
      "species shape: (5824, 4)\n"
     ]
    }
   ],
   "source": [
    "print(f\"species shape: {data_species.shape}\")"
   ]
  },
  {
   "cell_type": "markdown",
   "metadata": {},
   "source": [
    "### Observations data"
   ]
  },
  {
   "cell_type": "markdown",
   "metadata": {},
   "source": [
    "Species data `observations.csv` has information about amount of species observed in national parks.\n",
    "\n",
    "The dataset columns include:\n",
    "- **scientific_name** - The scientific name of each species\n",
    "- **park_name** - Name of national parks\n",
    "- **observations** - Amount of species observations"
   ]
  },
  {
   "cell_type": "code",
   "execution_count": 6,
   "metadata": {
    "scrolled": true
   },
   "outputs": [
    {
     "data": {
      "text/html": [
       "<div>\n",
       "<style scoped>\n",
       "    .dataframe tbody tr th:only-of-type {\n",
       "        vertical-align: middle;\n",
       "    }\n",
       "\n",
       "    .dataframe tbody tr th {\n",
       "        vertical-align: top;\n",
       "    }\n",
       "\n",
       "    .dataframe thead th {\n",
       "        text-align: right;\n",
       "    }\n",
       "</style>\n",
       "<table border=\"1\" class=\"dataframe\">\n",
       "  <thead>\n",
       "    <tr style=\"text-align: right;\">\n",
       "      <th></th>\n",
       "      <th>scientific_name</th>\n",
       "      <th>park_name</th>\n",
       "      <th>observations</th>\n",
       "    </tr>\n",
       "  </thead>\n",
       "  <tbody>\n",
       "    <tr>\n",
       "      <th>0</th>\n",
       "      <td>Vicia benghalensis</td>\n",
       "      <td>Great Smoky Mountains National Park</td>\n",
       "      <td>68</td>\n",
       "    </tr>\n",
       "    <tr>\n",
       "      <th>1</th>\n",
       "      <td>Neovison vison</td>\n",
       "      <td>Great Smoky Mountains National Park</td>\n",
       "      <td>77</td>\n",
       "    </tr>\n",
       "    <tr>\n",
       "      <th>2</th>\n",
       "      <td>Prunus subcordata</td>\n",
       "      <td>Yosemite National Park</td>\n",
       "      <td>138</td>\n",
       "    </tr>\n",
       "    <tr>\n",
       "      <th>3</th>\n",
       "      <td>Abutilon theophrasti</td>\n",
       "      <td>Bryce National Park</td>\n",
       "      <td>84</td>\n",
       "    </tr>\n",
       "    <tr>\n",
       "      <th>4</th>\n",
       "      <td>Githopsis specularioides</td>\n",
       "      <td>Great Smoky Mountains National Park</td>\n",
       "      <td>85</td>\n",
       "    </tr>\n",
       "    <tr>\n",
       "      <th>5</th>\n",
       "      <td>Elymus virginicus var. virginicus</td>\n",
       "      <td>Yosemite National Park</td>\n",
       "      <td>112</td>\n",
       "    </tr>\n",
       "    <tr>\n",
       "      <th>6</th>\n",
       "      <td>Spizella pusilla</td>\n",
       "      <td>Yellowstone National Park</td>\n",
       "      <td>228</td>\n",
       "    </tr>\n",
       "    <tr>\n",
       "      <th>7</th>\n",
       "      <td>Elymus multisetus</td>\n",
       "      <td>Great Smoky Mountains National Park</td>\n",
       "      <td>39</td>\n",
       "    </tr>\n",
       "    <tr>\n",
       "      <th>8</th>\n",
       "      <td>Lysimachia quadrifolia</td>\n",
       "      <td>Yosemite National Park</td>\n",
       "      <td>168</td>\n",
       "    </tr>\n",
       "    <tr>\n",
       "      <th>9</th>\n",
       "      <td>Diphyscium cumberlandianum</td>\n",
       "      <td>Yellowstone National Park</td>\n",
       "      <td>250</td>\n",
       "    </tr>\n",
       "  </tbody>\n",
       "</table>\n",
       "</div>"
      ],
      "text/plain": [
       "                     scientific_name                            park_name  \\\n",
       "0                 Vicia benghalensis  Great Smoky Mountains National Park   \n",
       "1                     Neovison vison  Great Smoky Mountains National Park   \n",
       "2                  Prunus subcordata               Yosemite National Park   \n",
       "3               Abutilon theophrasti                  Bryce National Park   \n",
       "4           Githopsis specularioides  Great Smoky Mountains National Park   \n",
       "5  Elymus virginicus var. virginicus               Yosemite National Park   \n",
       "6                   Spizella pusilla            Yellowstone National Park   \n",
       "7                  Elymus multisetus  Great Smoky Mountains National Park   \n",
       "8             Lysimachia quadrifolia               Yosemite National Park   \n",
       "9         Diphyscium cumberlandianum            Yellowstone National Park   \n",
       "\n",
       "   observations  \n",
       "0            68  \n",
       "1            77  \n",
       "2           138  \n",
       "3            84  \n",
       "4            85  \n",
       "5           112  \n",
       "6           228  \n",
       "7            39  \n",
       "8           168  \n",
       "9           250  "
      ]
     },
     "execution_count": 6,
     "metadata": {},
     "output_type": "execute_result"
    }
   ],
   "source": [
    "data_observations = pd.read_csv('observations.csv')\n",
    "data_observations.head(10)"
   ]
  },
  {
   "cell_type": "markdown",
   "metadata": {},
   "source": [
    "#### Shape of the data\n",
    "Observations data has 3 columns and 23296 rows"
   ]
  },
  {
   "cell_type": "code",
   "execution_count": 7,
   "metadata": {},
   "outputs": [
    {
     "name": "stdout",
     "output_type": "stream",
     "text": [
      "observations shape: (23296, 3)\n"
     ]
    }
   ],
   "source": [
    "print(f\"observations shape: {data_observations.shape}\")"
   ]
  },
  {
   "cell_type": "markdown",
   "metadata": {},
   "source": [
    "# Examine the data"
   ]
  },
  {
   "cell_type": "markdown",
   "metadata": {},
   "source": [
    "## Species data"
   ]
  },
  {
   "cell_type": "markdown",
   "metadata": {},
   "source": [
    "Species data columns categorized as follows:\n",
    "1. `Category` has `7` categories: `Mammal`, `Bird`, `Reptile`, `Amphibian`, `Fish`, `Vascular Plant`, `Nonvascular Plant`\n",
    "\n",
    "2. `Scientific name` has `5541` categories\n",
    "\n",
    "3. `Common names` has `5504` categories\n",
    "\n",
    "4. `Conservation status` has `4` categories: `nan`, `Species of Concern`, `Endangered`, `Threatened`, `In Recovery`"
   ]
  },
  {
   "cell_type": "markdown",
   "metadata": {},
   "source": [
    "#### Category variable"
   ]
  },
  {
   "cell_type": "markdown",
   "metadata": {},
   "source": [
    "Count of groups for `category` variable shows that:\n",
    "- `Vascular Plant` has the largest share across categories (`4470` plants) \n",
    "- `Reptiles` have the smallest share across categories (`79` reptiles)"
   ]
  },
  {
   "cell_type": "code",
   "execution_count": 8,
   "metadata": {},
   "outputs": [
    {
     "data": {
      "text/plain": [
       "category\n",
       "Amphibian              80\n",
       "Bird                  521\n",
       "Fish                  127\n",
       "Mammal                214\n",
       "Nonvascular Plant     333\n",
       "Reptile                79\n",
       "Vascular Plant       4470\n",
       "dtype: int64"
      ]
     },
     "execution_count": 8,
     "metadata": {},
     "output_type": "execute_result"
    }
   ],
   "source": [
    "data_species.groupby(\"category\").size()"
   ]
  },
  {
   "cell_type": "markdown",
   "metadata": {},
   "source": [
    "#### Conservation status variable"
   ]
  },
  {
   "cell_type": "markdown",
   "metadata": {},
   "source": [
    "Count of groups for `conservation_status` variable shows that:\n",
    "- `Species of Concern` has the largest share across categories (`161` species) \n",
    "- `Reptiles` have the smallest share across categories (`4` species)\n",
    "- There are `5633` na values, which (by the dint of a research) were converted into `Not under threat` variable"
   ]
  },
  {
   "cell_type": "code",
   "execution_count": 9,
   "metadata": {},
   "outputs": [
    {
     "name": "stdout",
     "output_type": "stream",
     "text": [
      "conservation_status\n",
      "Endangered              16\n",
      "In Recovery              4\n",
      "Not under threat      5633\n",
      "Species of Concern     161\n",
      "Threatened              10\n",
      "dtype: int64\n"
     ]
    }
   ],
   "source": [
    "# replace NA with \"Not under threat\" \n",
    "data_species.conservation_status.fillna('Not under threat', inplace=True)\n",
    "print(data_species.groupby(\"conservation_status\").size())"
   ]
  },
  {
   "cell_type": "code",
   "execution_count": 28,
   "metadata": {},
   "outputs": [
    {
     "name": "stdout",
     "output_type": "stream",
     "text": [
      "Conservation status shape: 3%\n"
     ]
    }
   ],
   "source": [
    "# count a share of conservation sttatus\n",
    "conservation_share = round(((16 + 4 + 161 + 10) / 5633)*100)\n",
    "print(f\"Conservation status shape: {conservation_share}%\")"
   ]
  },
  {
   "cell_type": "markdown",
   "metadata": {},
   "source": [
    "## Observation data"
   ]
  },
  {
   "cell_type": "markdown",
   "metadata": {},
   "source": [
    "Observations data columns categorized as follows:\n",
    "1. `Scientific name` has `5541` categories\n",
    "\n",
    "2. `Park name` has `4` categories: `Great Smoky Mountains National Park`, `Yosemite National Park`, `Bryce National Park`, `Yellowstone National Park`\n",
    "\n",
    "3. `Observations` is a numerical variable and `304` categories"
   ]
  },
  {
   "cell_type": "code",
   "execution_count": 11,
   "metadata": {
    "scrolled": true
   },
   "outputs": [
    {
     "name": "stdout",
     "output_type": "stream",
     "text": [
      "Column: 'scientific_name'\n",
      "Categories in column: ['Vicia benghalensis' 'Neovison vison' 'Prunus subcordata' ...\n",
      " 'Ranunculus hebecarpus' 'Gulo gulo' 'Dichanthelium depauperatum']\n",
      "Number of categories in column 'scientific_name': 5541\n",
      "---------------\n",
      "Column: 'park_name'\n",
      "Categories in column: ['Great Smoky Mountains National Park' 'Yosemite National Park'\n",
      " 'Bryce National Park' 'Yellowstone National Park']\n",
      "Number of categories in column 'park_name': 4\n",
      "---------------\n",
      "Column: 'observations'\n",
      "Categories in column: [ 68  77 138  84  85 112 228  39 168 250 103 114 101 279  72  65 143 165\n",
      " 150  80  83 109 158 167 135 247  73 261 177 117  79  96 140 116 239 262\n",
      "  71 176 148  76 235 283  25 246  64 281  88  67 254 152 147 213 265 107\n",
      " 156  47 157  89 154 127 106  75  36 137 244  63 214  92 108  54 105 115\n",
      "  98 223  82  90 218  58  59  48 208  95  70 100  49  56 134  91  86 136\n",
      " 257 123 263 118 258 252  27  74  94 132  57 282 110 253 267 230 124 131\n",
      " 164 260 119 233 245  60 151  66 206 189 242 111 120 243 276 237  29 220\n",
      " 266 166  53 240  55 215 125  99 199 128 232 251 269 163  93 241 122  69\n",
      "  97 149 141 142 216 113 145  43 229 234 153 212 172 146 291 160 188 256\n",
      " 129 227 264 192 159 139 144  34 236  81  78 174  45 201 155 133 249 219\n",
      " 238 161  52 130  61 102 273 259 126 289 210  87  42 305  62  35 184  30\n",
      "  46 255 186 162 203 222 225 170  50 169 285 183  38 280 221 248 197 294\n",
      " 104 274 181 297 284 175 295 293 121 194 270 286 272 217  37 193 287 190\n",
      " 268 204 278 191 317 171 200  40 180 179  44 304 224 277 275 231 288 185\n",
      " 209 207  31  51 173  26 271 312 178 226 187 296  41 205 182 300  20  23\n",
      " 211 290  33  14 292 298 301 302 196 299  19  24 202 195  32 307  22 314\n",
      "  28  21 316   9 198  13  17 303  15 306 321  18  10  11  12 310]\n",
      "Number of categories in column 'observations': 304\n",
      "---------------\n"
     ]
    }
   ],
   "source": [
    "# printout unique values for each column\n",
    "for col in data_observations.columns:\n",
    "    unique_values = data_observations[col].unique()\n",
    "    nunique_values = data_observations[col].nunique()\n",
    "    print(f\"Column: '{col}'\")\n",
    "    print(f\"Categories in column: {unique_values}\")\n",
    "    print(f\"Number of categories in column '{col}': {nunique_values}\")\n",
    "    print(\"---------------\")"
   ]
  },
  {
   "cell_type": "markdown",
   "metadata": {},
   "source": [
    "# Analysis"
   ]
  },
  {
   "cell_type": "markdown",
   "metadata": {},
   "source": [
    "### Merge data\n",
    "To conduct an analysis, we should merge both `data_observations` and `data_species` datasets and create a new one `merged_df`"
   ]
  },
  {
   "cell_type": "code",
   "execution_count": 12,
   "metadata": {
    "scrolled": true
   },
   "outputs": [
    {
     "data": {
      "text/html": [
       "<div>\n",
       "<style scoped>\n",
       "    .dataframe tbody tr th:only-of-type {\n",
       "        vertical-align: middle;\n",
       "    }\n",
       "\n",
       "    .dataframe tbody tr th {\n",
       "        vertical-align: top;\n",
       "    }\n",
       "\n",
       "    .dataframe thead th {\n",
       "        text-align: right;\n",
       "    }\n",
       "</style>\n",
       "<table border=\"1\" class=\"dataframe\">\n",
       "  <thead>\n",
       "    <tr style=\"text-align: right;\">\n",
       "      <th></th>\n",
       "      <th>scientific_name</th>\n",
       "      <th>park_name</th>\n",
       "      <th>observations</th>\n",
       "      <th>category</th>\n",
       "      <th>common_names</th>\n",
       "      <th>conservation_status</th>\n",
       "    </tr>\n",
       "  </thead>\n",
       "  <tbody>\n",
       "    <tr>\n",
       "      <th>0</th>\n",
       "      <td>Vicia benghalensis</td>\n",
       "      <td>Great Smoky Mountains National Park</td>\n",
       "      <td>68</td>\n",
       "      <td>Vascular Plant</td>\n",
       "      <td>Purple Vetch, Reddish Tufted Vetch</td>\n",
       "      <td>Not under threat</td>\n",
       "    </tr>\n",
       "    <tr>\n",
       "      <th>1</th>\n",
       "      <td>Neovison vison</td>\n",
       "      <td>Great Smoky Mountains National Park</td>\n",
       "      <td>77</td>\n",
       "      <td>Mammal</td>\n",
       "      <td>American Mink</td>\n",
       "      <td>Not under threat</td>\n",
       "    </tr>\n",
       "    <tr>\n",
       "      <th>2</th>\n",
       "      <td>Prunus subcordata</td>\n",
       "      <td>Yosemite National Park</td>\n",
       "      <td>138</td>\n",
       "      <td>Vascular Plant</td>\n",
       "      <td>Klamath Plum</td>\n",
       "      <td>Not under threat</td>\n",
       "    </tr>\n",
       "    <tr>\n",
       "      <th>3</th>\n",
       "      <td>Abutilon theophrasti</td>\n",
       "      <td>Bryce National Park</td>\n",
       "      <td>84</td>\n",
       "      <td>Vascular Plant</td>\n",
       "      <td>Velvetleaf</td>\n",
       "      <td>Not under threat</td>\n",
       "    </tr>\n",
       "    <tr>\n",
       "      <th>4</th>\n",
       "      <td>Githopsis specularioides</td>\n",
       "      <td>Great Smoky Mountains National Park</td>\n",
       "      <td>85</td>\n",
       "      <td>Vascular Plant</td>\n",
       "      <td>Common Bluecup</td>\n",
       "      <td>Not under threat</td>\n",
       "    </tr>\n",
       "    <tr>\n",
       "      <th>...</th>\n",
       "      <td>...</td>\n",
       "      <td>...</td>\n",
       "      <td>...</td>\n",
       "      <td>...</td>\n",
       "      <td>...</td>\n",
       "      <td>...</td>\n",
       "    </tr>\n",
       "    <tr>\n",
       "      <th>23291</th>\n",
       "      <td>Croton monanthogynus</td>\n",
       "      <td>Yosemite National Park</td>\n",
       "      <td>173</td>\n",
       "      <td>Vascular Plant</td>\n",
       "      <td>Prairie Tea</td>\n",
       "      <td>Not under threat</td>\n",
       "    </tr>\n",
       "    <tr>\n",
       "      <th>23292</th>\n",
       "      <td>Otospermophilus beecheyi</td>\n",
       "      <td>Bryce National Park</td>\n",
       "      <td>130</td>\n",
       "      <td>Mammal</td>\n",
       "      <td>California Ground Squirrel</td>\n",
       "      <td>Not under threat</td>\n",
       "    </tr>\n",
       "    <tr>\n",
       "      <th>23293</th>\n",
       "      <td>Heterotheca sessiliflora ssp. echioides</td>\n",
       "      <td>Bryce National Park</td>\n",
       "      <td>140</td>\n",
       "      <td>Vascular Plant</td>\n",
       "      <td>Sessileflower False Goldenaster</td>\n",
       "      <td>Not under threat</td>\n",
       "    </tr>\n",
       "    <tr>\n",
       "      <th>23294</th>\n",
       "      <td>Dicranella rufescens</td>\n",
       "      <td>Yosemite National Park</td>\n",
       "      <td>171</td>\n",
       "      <td>Nonvascular Plant</td>\n",
       "      <td>Dicranella Moss</td>\n",
       "      <td>Not under threat</td>\n",
       "    </tr>\n",
       "    <tr>\n",
       "      <th>23295</th>\n",
       "      <td>Cucurbita pepo</td>\n",
       "      <td>Yosemite National Park</td>\n",
       "      <td>164</td>\n",
       "      <td>Vascular Plant</td>\n",
       "      <td>Field Pumpkin</td>\n",
       "      <td>Not under threat</td>\n",
       "    </tr>\n",
       "  </tbody>\n",
       "</table>\n",
       "<p>23296 rows × 6 columns</p>\n",
       "</div>"
      ],
      "text/plain": [
       "                               scientific_name  \\\n",
       "0                           Vicia benghalensis   \n",
       "1                               Neovison vison   \n",
       "2                            Prunus subcordata   \n",
       "3                         Abutilon theophrasti   \n",
       "4                     Githopsis specularioides   \n",
       "...                                        ...   \n",
       "23291                     Croton monanthogynus   \n",
       "23292                 Otospermophilus beecheyi   \n",
       "23293  Heterotheca sessiliflora ssp. echioides   \n",
       "23294                     Dicranella rufescens   \n",
       "23295                           Cucurbita pepo   \n",
       "\n",
       "                                 park_name  observations           category  \\\n",
       "0      Great Smoky Mountains National Park            68     Vascular Plant   \n",
       "1      Great Smoky Mountains National Park            77             Mammal   \n",
       "2                   Yosemite National Park           138     Vascular Plant   \n",
       "3                      Bryce National Park            84     Vascular Plant   \n",
       "4      Great Smoky Mountains National Park            85     Vascular Plant   \n",
       "...                                    ...           ...                ...   \n",
       "23291               Yosemite National Park           173     Vascular Plant   \n",
       "23292                  Bryce National Park           130             Mammal   \n",
       "23293                  Bryce National Park           140     Vascular Plant   \n",
       "23294               Yosemite National Park           171  Nonvascular Plant   \n",
       "23295               Yosemite National Park           164     Vascular Plant   \n",
       "\n",
       "                             common_names conservation_status  \n",
       "0      Purple Vetch, Reddish Tufted Vetch    Not under threat  \n",
       "1                           American Mink    Not under threat  \n",
       "2                            Klamath Plum    Not under threat  \n",
       "3                              Velvetleaf    Not under threat  \n",
       "4                          Common Bluecup    Not under threat  \n",
       "...                                   ...                 ...  \n",
       "23291                         Prairie Tea    Not under threat  \n",
       "23292          California Ground Squirrel    Not under threat  \n",
       "23293     Sessileflower False Goldenaster    Not under threat  \n",
       "23294                     Dicranella Moss    Not under threat  \n",
       "23295                       Field Pumpkin    Not under threat  \n",
       "\n",
       "[23296 rows x 6 columns]"
      ]
     },
     "execution_count": 12,
     "metadata": {},
     "output_type": "execute_result"
    }
   ],
   "source": [
    "# create a dataframe with droped dublicates of \"scientific_name\" variable and get a unique values dataframe\n",
    "species_dd = data_species.drop_duplicates(subset=['scientific_name'])\n",
    "# merge dataframes together\n",
    "merged_df = pd.merge(data_observations, species_dd, how='left')\n",
    "merged_df"
   ]
  },
  {
   "cell_type": "markdown",
   "metadata": {},
   "source": [
    "Make sure datasets merged correctly:\n",
    "\n",
    "`merged_df` length is equal to length of `data_observations`\n",
    "\n",
    "sum of numerical column `observations` in `merged_df` equal to sum of same column in `data_observations`"
   ]
  },
  {
   "cell_type": "code",
   "execution_count": 13,
   "metadata": {},
   "outputs": [
    {
     "name": "stdout",
     "output_type": "stream",
     "text": [
      "The length of observations in both df is equal\n",
      "The sum of observations in both df is equal\n"
     ]
    }
   ],
   "source": [
    "# chaeck for observations length equality\n",
    "if len(data_observations.observations) == len(merged_df.observations):\n",
    "    print(\"The length of observations in both df is equal\")\n",
    "else:\n",
    "    print(\"The length of observations in both df is not equal\")\n",
    "# check for sum of observations equality  \n",
    "if data_observations['observations'].sum() == merged_df['observations'].sum():\n",
    "    print(\"The sum of observations in both df is equal\")\n",
    "else:\n",
    "    print(\"The sum of observations in both df is not equal\")"
   ]
  },
  {
   "cell_type": "markdown",
   "metadata": {},
   "source": [
    "## The distribution of conservation status across types of species"
   ]
  },
  {
   "cell_type": "markdown",
   "metadata": {},
   "source": [
    "As soon as `data_species` represents unique values for `conservation_status` and `category`, it will be used for a pivot table of the distribution of conservation status for species.\n",
    "\n",
    "(Instead of `merged_data` which has duplicated for these variables)\n",
    "\n",
    "`Not under threat` category excluded from the analysis due to the interest in rare species. "
   ]
  },
  {
   "cell_type": "markdown",
   "metadata": {},
   "source": [
    "### Distribution of conservation status"
   ]
  },
  {
   "cell_type": "markdown",
   "metadata": {},
   "source": [
    "To analyze the distribution of conservation status, it should be observed an objective distribution of species under protection and vice versa.\n",
    "\n",
    "First, create a dummy variable `is_protected` which has a `True` value for species under risk and `False` value for opposite."
   ]
  },
  {
   "cell_type": "code",
   "execution_count": 14,
   "metadata": {},
   "outputs": [],
   "source": [
    "merged_df['is_protected'] = merged_df['conservation_status'].apply(lambda x: 'Not Protected' if x == 'Not under threat' else 'Protected')"
   ]
  },
  {
   "cell_type": "markdown",
   "metadata": {},
   "source": [
    "On the table below, it could be seen that vast majority of species is not protected. \n",
    "\n",
    "Nevertheless, Mammals (17%) and Birds (15%) have the larges share of protection across all species categories."
   ]
  },
  {
   "cell_type": "code",
   "execution_count": 15,
   "metadata": {
    "scrolled": true
   },
   "outputs": [
    {
     "data": {
      "text/html": [
       "<div>\n",
       "<style scoped>\n",
       "    .dataframe tbody tr th:only-of-type {\n",
       "        vertical-align: middle;\n",
       "    }\n",
       "\n",
       "    .dataframe tbody tr th {\n",
       "        vertical-align: top;\n",
       "    }\n",
       "\n",
       "    .dataframe thead th {\n",
       "        text-align: right;\n",
       "    }\n",
       "</style>\n",
       "<table border=\"1\" class=\"dataframe\">\n",
       "  <thead>\n",
       "    <tr style=\"text-align: right;\">\n",
       "      <th></th>\n",
       "      <th>category</th>\n",
       "      <th>Not protected</th>\n",
       "      <th>Protected</th>\n",
       "      <th>Protected %</th>\n",
       "    </tr>\n",
       "  </thead>\n",
       "  <tbody>\n",
       "    <tr>\n",
       "      <th>0</th>\n",
       "      <td>Amphibian</td>\n",
       "      <td>72</td>\n",
       "      <td>7</td>\n",
       "      <td>8.860759</td>\n",
       "    </tr>\n",
       "    <tr>\n",
       "      <th>1</th>\n",
       "      <td>Bird</td>\n",
       "      <td>413</td>\n",
       "      <td>75</td>\n",
       "      <td>15.368852</td>\n",
       "    </tr>\n",
       "    <tr>\n",
       "      <th>2</th>\n",
       "      <td>Fish</td>\n",
       "      <td>115</td>\n",
       "      <td>10</td>\n",
       "      <td>8.000000</td>\n",
       "    </tr>\n",
       "    <tr>\n",
       "      <th>3</th>\n",
       "      <td>Mammal</td>\n",
       "      <td>146</td>\n",
       "      <td>30</td>\n",
       "      <td>17.045455</td>\n",
       "    </tr>\n",
       "    <tr>\n",
       "      <th>4</th>\n",
       "      <td>Nonvascular Plant</td>\n",
       "      <td>328</td>\n",
       "      <td>5</td>\n",
       "      <td>1.501502</td>\n",
       "    </tr>\n",
       "    <tr>\n",
       "      <th>5</th>\n",
       "      <td>Reptile</td>\n",
       "      <td>73</td>\n",
       "      <td>5</td>\n",
       "      <td>6.410256</td>\n",
       "    </tr>\n",
       "    <tr>\n",
       "      <th>6</th>\n",
       "      <td>Vascular Plant</td>\n",
       "      <td>4216</td>\n",
       "      <td>46</td>\n",
       "      <td>1.079305</td>\n",
       "    </tr>\n",
       "  </tbody>\n",
       "</table>\n",
       "</div>"
      ],
      "text/plain": [
       "            category  Not protected  Protected  Protected %\n",
       "0          Amphibian             72          7     8.860759\n",
       "1               Bird            413         75    15.368852\n",
       "2               Fish            115         10     8.000000\n",
       "3             Mammal            146         30    17.045455\n",
       "4  Nonvascular Plant            328          5     1.501502\n",
       "5            Reptile             73          5     6.410256\n",
       "6     Vascular Plant           4216         46     1.079305"
      ]
     },
     "execution_count": 15,
     "metadata": {},
     "output_type": "execute_result"
    }
   ],
   "source": [
    "# create a pivot tables based on variables of interest, add percentage column for \"ptoected\" status\n",
    "protected_pivot = merged_df.groupby(['category', 'is_protected'])\\\n",
    "                        .scientific_name.nunique()\\\n",
    "                        .reset_index()\\\n",
    "                        .pivot(columns='is_protected',\n",
    "                                      index='category',\n",
    "                                      values='scientific_name')\\\n",
    "                        .reset_index()\n",
    "protected_pivot.columns = ['category', 'Not protected', 'Protected']\n",
    "protected_pivot['Protected %'] = protected_pivot['Protected'] / \\\n",
    "                                      (protected_pivot['Protected'] + protected_pivot['Not protected']) * 100\n",
    "protected_pivot"
   ]
  },
  {
   "cell_type": "markdown",
   "metadata": {},
   "source": [
    "#### Statistical significance"
   ]
  },
  {
   "cell_type": "markdown",
   "metadata": {},
   "source": [
    "This part of analysis will run chi-squared tests to find out whether there is statistically significant difference in conservation status rates."
   ]
  },
  {
   "cell_type": "markdown",
   "metadata": {},
   "source": [
    "The first test checks the difference between `mammals` and `birds`.\n",
    "\n",
    "After conducting the chi-squared test, multiple values are obtained, and among them, the second value corresponds to the p-value. In general, the standard p-value used to assess statistical significance is 0.05. However, in this particular case, the obtained p-value is 0.69, which is considerably higher than 0.05. Therefore, it can be concluded that there is no significant relationship between mammals and birds, indicating that the variables are independent of each other."
   ]
  },
  {
   "cell_type": "code",
   "execution_count": 34,
   "metadata": {
    "scrolled": true
   },
   "outputs": [
    {
     "name": "stdout",
     "output_type": "stream",
     "text": [
      "Contingency Table:\n",
      "[[30, 146], [75, 413]]\n",
      "Expected Frequencies:\n",
      "[[ 27.8313253 148.1686747]\n",
      " [ 77.1686747 410.8313253]]\n",
      "Chi-Square Test Statistic: 0.1617014831654557\n",
      "P-value: 0.6875948096661336\n",
      "Degrees of Freedom: 1\n"
     ]
    }
   ],
   "source": [
    "# create a dataframe for \"mammals\" and \"birds\" values\n",
    "contingency1 = [[30, 146],\n",
    "              [75, 413]]\n",
    "# run statistics test\n",
    "stat, p, dof, expected = chi2_contingency(contingency1)\n",
    "# printout results\n",
    "print(\"Contingency Table:\")\n",
    "print(contingency1)\n",
    "print(\"Expected Frequencies:\")\n",
    "print(expected)\n",
    "print(\"Chi-Square Test Statistic:\", stat)\n",
    "print(\"P-value:\", p)\n",
    "print(\"Degrees of Freedom:\", dof)"
   ]
  },
  {
   "cell_type": "markdown",
   "metadata": {},
   "source": [
    "The second test checks the difference between `mammals` and `fish`.\n",
    "\n",
    "The obtained p-value for this test is 0.03, which is lower than the standard threshold of 0.05. This indicates that there is a statistically significant difference between fish and mammals. Specifically, the results indicate that mammals have a significantly higher rate of protection compared to fish."
   ]
  },
  {
   "cell_type": "code",
   "execution_count": 16,
   "metadata": {},
   "outputs": [
    {
     "name": "stdout",
     "output_type": "stream",
     "text": [
      "Contingency Table:\n",
      "[[30, 146], [10, 115]]\n",
      "Expected Frequencies:\n",
      "[[ 23.38870432 152.61129568]\n",
      " [ 16.61129568 108.38870432]]\n",
      "Chi-Square Test Statistic: 4.434482041318357\n",
      "P-value: 0.03521990485242024\n",
      "Degrees of Freedom: 1\n"
     ]
    }
   ],
   "source": [
    "# create a dataframe for \"mammals\" and \"fish\" values\n",
    "contingency2 = [[30, 146],\n",
    "               [10, 115]]\n",
    "# run statistics test\n",
    "stat, p, dof, expected = chi2_contingency(contingency2)\n",
    "# printout results\n",
    "print(\"Contingency Table:\")\n",
    "print(contingency2)\n",
    "print(\"Expected Frequencies:\")\n",
    "print(expected)\n",
    "print(\"Chi-Square Test Statistic:\", stat)\n",
    "print(\"P-value:\", p)\n",
    "print(\"Degrees of Freedom:\", dof)"
   ]
  },
  {
   "cell_type": "markdown",
   "metadata": {},
   "source": [
    "#### In more detail"
   ]
  },
  {
   "cell_type": "markdown",
   "metadata": {},
   "source": [
    "According to the table and graph below:\n",
    " - The largest share of conservation status is `Species of concern` which has 161 different species \n",
    " - There are `16` species having `Endangered` status\n",
    " - The most endangered species categories are `Mammal` (7 species) and `Bird` (4 species)\n",
    " - For `In recovery` status there are 3 `Birds` and 1 `Mammal` - birds have greater tendency to start back"
   ]
  },
  {
   "cell_type": "code",
   "execution_count": 18,
   "metadata": {
    "code_folding": [],
    "scrolled": true
   },
   "outputs": [
    {
     "data": {
      "text/html": [
       "<div>\n",
       "<style scoped>\n",
       "    .dataframe tbody tr th:only-of-type {\n",
       "        vertical-align: middle;\n",
       "    }\n",
       "\n",
       "    .dataframe tbody tr th {\n",
       "        vertical-align: top;\n",
       "    }\n",
       "\n",
       "    .dataframe thead th {\n",
       "        text-align: right;\n",
       "    }\n",
       "</style>\n",
       "<table border=\"1\" class=\"dataframe\">\n",
       "  <thead>\n",
       "    <tr style=\"text-align: right;\">\n",
       "      <th>category</th>\n",
       "      <th>Amphibian</th>\n",
       "      <th>Bird</th>\n",
       "      <th>Fish</th>\n",
       "      <th>Mammal</th>\n",
       "      <th>Nonvascular Plant</th>\n",
       "      <th>Reptile</th>\n",
       "      <th>Vascular Plant</th>\n",
       "      <th>- Total for status</th>\n",
       "    </tr>\n",
       "    <tr>\n",
       "      <th>conservation_status</th>\n",
       "      <th></th>\n",
       "      <th></th>\n",
       "      <th></th>\n",
       "      <th></th>\n",
       "      <th></th>\n",
       "      <th></th>\n",
       "      <th></th>\n",
       "      <th></th>\n",
       "    </tr>\n",
       "  </thead>\n",
       "  <tbody>\n",
       "    <tr>\n",
       "      <th>Endangered</th>\n",
       "      <td>1.0</td>\n",
       "      <td>4.0</td>\n",
       "      <td>3.0</td>\n",
       "      <td>7.0</td>\n",
       "      <td>NaN</td>\n",
       "      <td>NaN</td>\n",
       "      <td>1.0</td>\n",
       "      <td>16.0</td>\n",
       "    </tr>\n",
       "    <tr>\n",
       "      <th>In Recovery</th>\n",
       "      <td>NaN</td>\n",
       "      <td>3.0</td>\n",
       "      <td>NaN</td>\n",
       "      <td>1.0</td>\n",
       "      <td>NaN</td>\n",
       "      <td>NaN</td>\n",
       "      <td>NaN</td>\n",
       "      <td>4.0</td>\n",
       "    </tr>\n",
       "    <tr>\n",
       "      <th>Species of Concern</th>\n",
       "      <td>4.0</td>\n",
       "      <td>72.0</td>\n",
       "      <td>4.0</td>\n",
       "      <td>28.0</td>\n",
       "      <td>5.0</td>\n",
       "      <td>5.0</td>\n",
       "      <td>43.0</td>\n",
       "      <td>161.0</td>\n",
       "    </tr>\n",
       "    <tr>\n",
       "      <th>Threatened</th>\n",
       "      <td>2.0</td>\n",
       "      <td>NaN</td>\n",
       "      <td>4.0</td>\n",
       "      <td>2.0</td>\n",
       "      <td>NaN</td>\n",
       "      <td>NaN</td>\n",
       "      <td>2.0</td>\n",
       "      <td>10.0</td>\n",
       "    </tr>\n",
       "    <tr>\n",
       "      <th>- Total for category</th>\n",
       "      <td>7.0</td>\n",
       "      <td>79.0</td>\n",
       "      <td>11.0</td>\n",
       "      <td>38.0</td>\n",
       "      <td>5.0</td>\n",
       "      <td>5.0</td>\n",
       "      <td>46.0</td>\n",
       "      <td>191.0</td>\n",
       "    </tr>\n",
       "  </tbody>\n",
       "</table>\n",
       "</div>"
      ],
      "text/plain": [
       "category              Amphibian  Bird  Fish  Mammal  Nonvascular Plant  \\\n",
       "conservation_status                                                      \n",
       "Endangered                  1.0   4.0   3.0     7.0                NaN   \n",
       "In Recovery                 NaN   3.0   NaN     1.0                NaN   \n",
       "Species of Concern          4.0  72.0   4.0    28.0                5.0   \n",
       "Threatened                  2.0   NaN   4.0     2.0                NaN   \n",
       "- Total for category        7.0  79.0  11.0    38.0                5.0   \n",
       "\n",
       "category              Reptile  Vascular Plant  - Total for status  \n",
       "conservation_status                                                \n",
       "Endangered                NaN             1.0                16.0  \n",
       "In Recovery               NaN             NaN                 4.0  \n",
       "Species of Concern        5.0            43.0               161.0  \n",
       "Threatened                NaN             2.0                10.0  \n",
       "- Total for category      5.0            46.0               191.0  "
      ]
     },
     "execution_count": 18,
     "metadata": {},
     "output_type": "execute_result"
    }
   ],
   "source": [
    "# create a table based on variables of interest, giving a specification for excluding \"Not under threat\" category\n",
    "conservation_by_species = data_species[data_species.conservation_status != \"Not under threat\"]\\\n",
    "    .groupby([\"conservation_status\", \"category\"])['scientific_name']\\\n",
    "    .count()\\\n",
    "    .unstack()\n",
    "# add summary statistics columns and row\n",
    "conservation_by_species['- Total for status'] = conservation_by_species.sum(axis=1)\n",
    "conservation_by_species.loc['- Total for category'] = conservation_by_species.sum(axis=0)\n",
    "\n",
    "conservation_by_species"
   ]
  },
  {
   "cell_type": "code",
   "execution_count": 19,
   "metadata": {},
   "outputs": [],
   "source": [
    "# before creating a plot, exlude summary statistics column and row\n",
    "conservation_by_species = conservation_by_species.drop(index=['- Total for category'])\n",
    "excluded_column = '- Total for status'\n",
    "conservation_by_species = conservation_by_species.drop(columns=excluded_column)"
   ]
  },
  {
   "cell_type": "code",
   "execution_count": 21,
   "metadata": {
    "scrolled": true
   },
   "outputs": [
    {
     "data": {
      "image/png": "[encoded data removed]",
      "text/plain": [
       "<Figure size 800x600 with 1 Axes>"
      ]
     },
     "metadata": {},
     "output_type": "display_data"
    }
   ],
   "source": [
    "# create a stacked bars plot\n",
    "ax = conservation_by_species.plot(kind = 'barh', figsize=(8,6), \n",
    "                               stacked=True)\n",
    "plt.title(\"Distribution of species by conservation status\")\n",
    "ax.set_xlabel(\"Conservation Status\")\n",
    "ax.set_ylabel(\"Number of Species\");"
   ]
  },
  {
   "cell_type": "markdown",
   "metadata": {},
   "source": [
    "## Distribution of conservation species across national parks "
   ]
  },
  {
   "cell_type": "markdown",
   "metadata": {},
   "source": [
    "### Distribution by conservation type"
   ]
  },
  {
   "cell_type": "markdown",
   "metadata": {},
   "source": [
    "Yellowstone National Park has got the largest amount of totally observed species (1 443 562) and the largest amount of observed protected species (38 663).\n",
    "\n",
    "The share of protected species from overall population across national parks is pretty much the same (average: 2.69%)"
   ]
  },
  {
   "cell_type": "code",
   "execution_count": 22,
   "metadata": {
    "scrolled": true
   },
   "outputs": [
    {
     "data": {
      "text/html": [
       "<div>\n",
       "<style scoped>\n",
       "    .dataframe tbody tr th:only-of-type {\n",
       "        vertical-align: middle;\n",
       "    }\n",
       "\n",
       "    .dataframe tbody tr th {\n",
       "        vertical-align: top;\n",
       "    }\n",
       "\n",
       "    .dataframe thead th {\n",
       "        text-align: right;\n",
       "    }\n",
       "</style>\n",
       "<table border=\"1\" class=\"dataframe\">\n",
       "  <thead>\n",
       "    <tr style=\"text-align: right;\">\n",
       "      <th></th>\n",
       "      <th>Park name</th>\n",
       "      <th>Not protected</th>\n",
       "      <th>Protected</th>\n",
       "      <th>Protected %</th>\n",
       "      <th>- Total observed</th>\n",
       "    </tr>\n",
       "  </thead>\n",
       "  <tbody>\n",
       "    <tr>\n",
       "      <th>0</th>\n",
       "      <td>Bryce National Park</td>\n",
       "      <td>559926</td>\n",
       "      <td>16099</td>\n",
       "      <td>2.794844</td>\n",
       "      <td>576025</td>\n",
       "    </tr>\n",
       "    <tr>\n",
       "      <th>1</th>\n",
       "      <td>Great Smoky Mountains National Park</td>\n",
       "      <td>420643</td>\n",
       "      <td>11177</td>\n",
       "      <td>2.588347</td>\n",
       "      <td>431820</td>\n",
       "    </tr>\n",
       "    <tr>\n",
       "      <th>2</th>\n",
       "      <td>Yellowstone National Park</td>\n",
       "      <td>1404899</td>\n",
       "      <td>38663</td>\n",
       "      <td>2.678305</td>\n",
       "      <td>1443562</td>\n",
       "    </tr>\n",
       "    <tr>\n",
       "      <th>3</th>\n",
       "      <td>Yosemite National Park</td>\n",
       "      <td>839976</td>\n",
       "      <td>23356</td>\n",
       "      <td>2.705332</td>\n",
       "      <td>863332</td>\n",
       "    </tr>\n",
       "  </tbody>\n",
       "</table>\n",
       "</div>"
      ],
      "text/plain": [
       "                             Park name  Not protected  Protected  Protected %  \\\n",
       "0                  Bryce National Park         559926      16099     2.794844   \n",
       "1  Great Smoky Mountains National Park         420643      11177     2.588347   \n",
       "2            Yellowstone National Park        1404899      38663     2.678305   \n",
       "3               Yosemite National Park         839976      23356     2.705332   \n",
       "\n",
       "   - Total observed  \n",
       "0            576025  \n",
       "1            431820  \n",
       "2           1443562  \n",
       "3            863332  "
      ]
     },
     "execution_count": 22,
     "metadata": {},
     "output_type": "execute_result"
    }
   ],
   "source": [
    "# create a table based on varibales of interest\n",
    "protected_by_parks = merged_df.groupby(['park_name', 'is_protected'])\\\n",
    "                        .observations.sum()\\\n",
    "                        .reset_index()\\\n",
    "                        .pivot(columns='is_protected',\n",
    "                                      index='park_name',\n",
    "                                      values='observations')\\\n",
    "                        .reset_index()\n",
    "# name columns\n",
    "protected_by_parks.columns = ['Park name', 'Not protected', 'Protected']\n",
    "# add percentage column for protected status\n",
    "protected_by_parks['Protected %'] = protected_by_parks['Protected'] / \\\n",
    "                                      (protected_by_parks['Protected'] + protected_by_parks['Not protected']) * 100\n",
    "# add summary column\n",
    "protected_by_parks['- Total observed'] = protected_by_parks['Protected'] + protected_by_parks['Not protected']\n",
    "protected_by_parks"
   ]
  },
  {
   "cell_type": "code",
   "execution_count": 30,
   "metadata": {},
   "outputs": [
    {
     "name": "stdout",
     "output_type": "stream",
     "text": [
      "Average amount of protected species across pnational parks: 2.69%\n"
     ]
    }
   ],
   "source": [
    "# calculate a share\n",
    "average_protected = round(protected_by_parks['Protected %'].mean(), 2)\n",
    "print('Average amount of protected species across pnational parks: '+ str(average_protected) +'%')"
   ]
  },
  {
   "cell_type": "markdown",
   "metadata": {},
   "source": [
    "Moreover, Yellowstone National Park leads in amount of observed endangered species (1 228)."
   ]
  },
  {
   "cell_type": "code",
   "execution_count": 19,
   "metadata": {},
   "outputs": [
    {
     "data": {
      "text/html": [
       "<div>\n",
       "<style scoped>\n",
       "    .dataframe tbody tr th:only-of-type {\n",
       "        vertical-align: middle;\n",
       "    }\n",
       "\n",
       "    .dataframe tbody tr th {\n",
       "        vertical-align: top;\n",
       "    }\n",
       "\n",
       "    .dataframe thead th {\n",
       "        text-align: right;\n",
       "    }\n",
       "</style>\n",
       "<table border=\"1\" class=\"dataframe\">\n",
       "  <thead>\n",
       "    <tr style=\"text-align: right;\">\n",
       "      <th>conservation_status</th>\n",
       "      <th>Endangered</th>\n",
       "      <th>In Recovery</th>\n",
       "      <th>Species of Concern</th>\n",
       "      <th>Threatened</th>\n",
       "      <th>Not under threat</th>\n",
       "    </tr>\n",
       "    <tr>\n",
       "      <th>park_name</th>\n",
       "      <th></th>\n",
       "      <th></th>\n",
       "      <th></th>\n",
       "      <th></th>\n",
       "      <th></th>\n",
       "    </tr>\n",
       "  </thead>\n",
       "  <tbody>\n",
       "    <tr>\n",
       "      <th>Bryce National Park</th>\n",
       "      <td>489</td>\n",
       "      <td>258</td>\n",
       "      <td>14925</td>\n",
       "      <td>427</td>\n",
       "      <td>559926</td>\n",
       "    </tr>\n",
       "    <tr>\n",
       "      <th>Great Smoky Mountains National Park</th>\n",
       "      <td>334</td>\n",
       "      <td>189</td>\n",
       "      <td>10314</td>\n",
       "      <td>340</td>\n",
       "      <td>420643</td>\n",
       "    </tr>\n",
       "    <tr>\n",
       "      <th>Yellowstone National Park</th>\n",
       "      <td>1228</td>\n",
       "      <td>559</td>\n",
       "      <td>35789</td>\n",
       "      <td>1087</td>\n",
       "      <td>1404899</td>\n",
       "    </tr>\n",
       "    <tr>\n",
       "      <th>Yosemite National Park</th>\n",
       "      <td>747</td>\n",
       "      <td>386</td>\n",
       "      <td>21551</td>\n",
       "      <td>672</td>\n",
       "      <td>839976</td>\n",
       "    </tr>\n",
       "  </tbody>\n",
       "</table>\n",
       "</div>"
      ],
      "text/plain": [
       "conservation_status                  Endangered  In Recovery  \\\n",
       "park_name                                                      \n",
       "Bryce National Park                         489          258   \n",
       "Great Smoky Mountains National Park         334          189   \n",
       "Yellowstone National Park                  1228          559   \n",
       "Yosemite National Park                      747          386   \n",
       "\n",
       "conservation_status                  Species of Concern  Threatened  \\\n",
       "park_name                                                             \n",
       "Bryce National Park                               14925         427   \n",
       "Great Smoky Mountains National Park               10314         340   \n",
       "Yellowstone National Park                         35789        1087   \n",
       "Yosemite National Park                            21551         672   \n",
       "\n",
       "conservation_status                  Not under threat  \n",
       "park_name                                              \n",
       "Bryce National Park                            559926  \n",
       "Great Smoky Mountains National Park            420643  \n",
       "Yellowstone National Park                     1404899  \n",
       "Yosemite National Park                         839976  "
      ]
     },
     "execution_count": 19,
     "metadata": {},
     "output_type": "execute_result"
    }
   ],
   "source": [
    "# create a pivot table based on variables of interest\n",
    "unpivoted = merged_df.groupby(['park_name', 'conservation_status'])['observations'].sum().reset_index()\n",
    "conservation_by_parks_pivot = pd.pivot_table(unpivoted, \n",
    "    columns='conservation_status',\n",
    "    index='park_name',\n",
    "    values='observations')\n",
    "# remane columns\n",
    "conservation_by_parks_pivot = conservation_by_parks_pivot[['Endangered', 'In Recovery', 'Species of Concern', 'Threatened', 'Not under threat']]\n",
    "conservation_by_parks_pivot"
   ]
  },
  {
   "cell_type": "markdown",
   "metadata": {},
   "source": [
    "### Distribution of the mostly endangered species across national parks."
   ]
  },
  {
   "cell_type": "markdown",
   "metadata": {},
   "source": [
    "For that part of the project, the analysis will focus on which species exactly mostly endangered and how they are distributed across national parks."
   ]
  },
  {
   "cell_type": "code",
   "execution_count": 75,
   "metadata": {},
   "outputs": [
    {
     "data": {
      "text/html": [
       "<div>\n",
       "<style scoped>\n",
       "    .dataframe tbody tr th:only-of-type {\n",
       "        vertical-align: middle;\n",
       "    }\n",
       "\n",
       "    .dataframe tbody tr th {\n",
       "        vertical-align: top;\n",
       "    }\n",
       "\n",
       "    .dataframe thead th {\n",
       "        text-align: right;\n",
       "    }\n",
       "</style>\n",
       "<table border=\"1\" class=\"dataframe\">\n",
       "  <thead>\n",
       "    <tr style=\"text-align: right;\">\n",
       "      <th></th>\n",
       "      <th>scientific_name</th>\n",
       "      <th>observations</th>\n",
       "    </tr>\n",
       "  </thead>\n",
       "  <tbody>\n",
       "    <tr>\n",
       "      <th>0</th>\n",
       "      <td>Canis lupus</td>\n",
       "      <td>715</td>\n",
       "    </tr>\n",
       "    <tr>\n",
       "      <th>3</th>\n",
       "      <td>Etheostoma percnurum</td>\n",
       "      <td>166</td>\n",
       "    </tr>\n",
       "    <tr>\n",
       "      <th>4</th>\n",
       "      <td>Geum radiatum</td>\n",
       "      <td>162</td>\n",
       "    </tr>\n",
       "    <tr>\n",
       "      <th>8</th>\n",
       "      <td>Myotis grisescens</td>\n",
       "      <td>160</td>\n",
       "    </tr>\n",
       "    <tr>\n",
       "      <th>7</th>\n",
       "      <td>Gymnogyps californianus</td>\n",
       "      <td>156</td>\n",
       "    </tr>\n",
       "    <tr>\n",
       "      <th>5</th>\n",
       "      <td>Glaucomys sabrinus coloratus</td>\n",
       "      <td>153</td>\n",
       "    </tr>\n",
       "    <tr>\n",
       "      <th>11</th>\n",
       "      <td>Ovis canadensis sierrae</td>\n",
       "      <td>153</td>\n",
       "    </tr>\n",
       "    <tr>\n",
       "      <th>2</th>\n",
       "      <td>Chasmistes liorus</td>\n",
       "      <td>146</td>\n",
       "    </tr>\n",
       "    <tr>\n",
       "      <th>12</th>\n",
       "      <td>Picoides borealis</td>\n",
       "      <td>146</td>\n",
       "    </tr>\n",
       "    <tr>\n",
       "      <th>9</th>\n",
       "      <td>Myotis sodalis</td>\n",
       "      <td>145</td>\n",
       "    </tr>\n",
       "  </tbody>\n",
       "</table>\n",
       "</div>"
      ],
      "text/plain": [
       "                 scientific_name  observations\n",
       "0                    Canis lupus           715\n",
       "3           Etheostoma percnurum           166\n",
       "4                  Geum radiatum           162\n",
       "8              Myotis grisescens           160\n",
       "7        Gymnogyps californianus           156\n",
       "5   Glaucomys sabrinus coloratus           153\n",
       "11       Ovis canadensis sierrae           153\n",
       "2              Chasmistes liorus           146\n",
       "12             Picoides borealis           146\n",
       "9                 Myotis sodalis           145"
      ]
     },
     "execution_count": 75,
     "metadata": {},
     "output_type": "execute_result"
    }
   ],
   "source": [
    "endangered_df = merged_df[merged_df.conservation_status =='Endangered'] \n",
    "# Group the filtered dataframe by the animal names and sum the observations for each animal\n",
    "endangered_df_grouped = endangered_df.groupby('scientific_name')['observations'].sum().reset_index()\n",
    "# Sort the grouped dataframe by the sum of observations in descending order\n",
    "endangered_df_sorted = endangered_df_grouped.sort_values(by='observations', ascending=False)\n",
    "# Get the top 10 animal names with the largest sum of observations\n",
    "top_endangered = endangered_df_sorted.head(10)\n",
    "\n",
    "top_endangered"
   ]
  },
  {
   "cell_type": "code",
   "execution_count": 94,
   "metadata": {},
   "outputs": [
    {
     "name": "stdout",
     "output_type": "stream",
     "text": [
      "Canis lupus Wolf share of endangered animals: 34%\n"
     ]
    }
   ],
   "source": [
    "# prinout share\n",
    "wolf_Canis_lupus_rate = (round((top_endangered.loc[top_endangered.scientific_name == 'Canis lupus', 'observations'].values[0]) / top_endangered.observations.sum(), 2))*100\n",
    "print('Canis lupus Wolf share of endangered animals: ' + str(round(wolf_Canis_lupus_rate)) + '%')"
   ]
  },
  {
   "cell_type": "code",
   "execution_count": 98,
   "metadata": {},
   "outputs": [
    {
     "data": {
      "text/html": [
       "<div>\n",
       "<style scoped>\n",
       "    .dataframe tbody tr th:only-of-type {\n",
       "        vertical-align: middle;\n",
       "    }\n",
       "\n",
       "    .dataframe tbody tr th {\n",
       "        vertical-align: top;\n",
       "    }\n",
       "\n",
       "    .dataframe thead th {\n",
       "        text-align: right;\n",
       "    }\n",
       "</style>\n",
       "<table border=\"1\" class=\"dataframe\">\n",
       "  <thead>\n",
       "    <tr style=\"text-align: right;\">\n",
       "      <th>scientific_name</th>\n",
       "      <th>Canis lupus</th>\n",
       "    </tr>\n",
       "    <tr>\n",
       "      <th>park_name</th>\n",
       "      <th></th>\n",
       "    </tr>\n",
       "  </thead>\n",
       "  <tbody>\n",
       "    <tr>\n",
       "      <th>Bryce National Park</th>\n",
       "      <td>130</td>\n",
       "    </tr>\n",
       "    <tr>\n",
       "      <th>Great Smoky Mountains National Park</th>\n",
       "      <td>59</td>\n",
       "    </tr>\n",
       "    <tr>\n",
       "      <th>Yellowstone National Park</th>\n",
       "      <td>330</td>\n",
       "    </tr>\n",
       "    <tr>\n",
       "      <th>Yosemite National Park</th>\n",
       "      <td>196</td>\n",
       "    </tr>\n",
       "  </tbody>\n",
       "</table>\n",
       "</div>"
      ],
      "text/plain": [
       "scientific_name                      Canis lupus\n",
       "park_name                                       \n",
       "Bryce National Park                          130\n",
       "Great Smoky Mountains National Park           59\n",
       "Yellowstone National Park                    330\n",
       "Yosemite National Park                       196"
      ]
     },
     "execution_count": 98,
     "metadata": {},
     "output_type": "execute_result"
    }
   ],
   "source": [
    "# create a pivot table based on variables of interest\n",
    "wolf_Canis_lupus_by_parks = merged_df[merged_df.scientific_name == \"Canis lupus\"]\\\n",
    "    .groupby([\"park_name\", \"scientific_name\"])['observations']\\\n",
    "    .sum()\\\n",
    "    .unstack()\n",
    "\n",
    "wolf_Canis_lupus_by_parks"
   ]
  },
  {
   "cell_type": "markdown",
   "metadata": {},
   "source": [
    "## Conclusions\n",
    "\n",
    "This project observed, visualized data and created inferences about species across four national pars.\n",
    "\n",
    "By the dint of the analysis above the project answered following questions:\n",
    "This project was also able to answer some of the questions first posed in the beginning:\n",
    "\n",
    "- What is the distribution of conservation status for species?\n",
    "    - The majority of species does not have conservation status. Only 3% of species have it. \n",
    "- What are the differences between types of species and conservation status?\n",
    "    - There was no significant difference in conservation percentage between mammals and birds, there was a statistically significant difference between mammals and fish.\n",
    "- Which types of species are mostly protected?\n",
    "    - Mammals (17%) and birds (15%) are mostly protected species.\n",
    "- Which park has the largest number of observed endangered species?\n",
    "    - Yellowstone National Park has got the largest amount of totally observed species (1 443 562) and the largest amount of observed protected species (38 663). Moreover, Yellowstone National Park leads in amount of observed endangered species (1 228).\n",
    "- Which species are mostly endangered and how they distributed across national parks?\n",
    "    - Canis lupus Wolf is the most endangered animal (34%). The vast majority of Canis lupus Wolf lives in Yellowstone National Park."
   ]
  }
 ],
 "metadata": {
  "kernelspec": {
   "display_name": "Python 3 (ipykernel)",
   "language": "python",
   "name": "python3"
  },
  "language_info": {
   "codemirror_mode": {
    "name": "ipython",
    "version": 3
   },
   "file_extension": ".py",
   "mimetype": "text/x-python",
   "name": "python",
   "nbconvert_exporter": "python",
   "pygments_lexer": "ipython3",
   "version": "3.9.16"
  },
  "toc": {
   "base_numbering": 1,
   "nav_menu": {},
   "number_sections": true,
   "sideBar": true,
   "skip_h1_title": false,
   "title_cell": "Table of Contents",
   "title_sidebar": "Contents",
   "toc_cell": false,
   "toc_position": {},
   "toc_section_display": true,
   "toc_window_display": false
  },
  "varInspector": {
   "cols": {
    "lenName": 16,
    "lenType": 16,
    "lenVar": 40
   },
   "kernels_config": {
    "python": {
     "delete_cmd_postfix": "",
     "delete_cmd_prefix": "del ",
     "library": "var_list.py",
     "varRefreshCmd": "print(var_dic_list())"
    },
    "r": {
     "delete_cmd_postfix": ") ",
     "delete_cmd_prefix": "rm(",
     "library": "var_list.r",
     "varRefreshCmd": "cat(var_dic_list()) "
    }
   },
   "types_to_exclude": [
    "module",
    "function",
    "builtin_function_or_method",
    "instance",
    "_Feature"
   ],
   "window_display": false
  }
 },
 "nbformat": 4,
 "nbformat_minor": 4
}
